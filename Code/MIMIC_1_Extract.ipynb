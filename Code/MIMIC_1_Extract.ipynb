{
 "cells": [
  {
   "cell_type": "markdown",
   "metadata": {},
   "source": [
    "# Step 1: Extract Data\n",
    "### Import libraries, set paths & constants"
   ]
  },
  {
   "cell_type": "code",
   "execution_count": 1,
   "metadata": {
    "collapsed": true
   },
   "outputs": [],
   "source": [
    "%matplotlib inline"
   ]
  },
  {
   "cell_type": "code",
   "execution_count": 2,
   "metadata": {
    "collapsed": false
   },
   "outputs": [],
   "source": [
    "import csv\n",
    "import numpy as np\n",
    "import os\n",
    "import pandas as pd\n",
    "import sys\n",
    "import time\n",
    "import matplotlib.pyplot as plt\n",
    "\n",
    "from IPython.display import display\n",
    "from collections import defaultdict\n",
    "from pandas import DataFrame"
   ]
  },
  {
   "cell_type": "code",
   "execution_count": 3,
   "metadata": {
    "collapsed": true
   },
   "outputs": [],
   "source": [
    "# Set these as appropriate\n",
    "MIMIC_PATH = '/Users/Mark/Downloads/MIMIC Data/Original'\n",
    "VARIABLE_MAP_FILE = '/Users/Mark/Documents/GitHub/MIMIC-Machine-Learning/Reference Files/mimic3_map.csv'\n",
    "OUTPUT_PATH = '/Users/Mark/Downloads/MIMIC Data/Processed'\n",
    "\n",
    "NB_ROWS_CHARTEVENTS = 263201376\n",
    "NB_ROWS_LABEVENTS = 27872576\n",
    "NB_ROWS_OUTPUTEVENTS = 4349340\n",
    "\n",
    "try:\n",
    "    os.makedirs(OUTPUT_PATH)\n",
    "except:\n",
    "    pass"
   ]
  },
  {
   "cell_type": "markdown",
   "metadata": {},
   "source": [
    "### Filter data by various criteria"
   ]
  },
  {
   "cell_type": "code",
   "execution_count": 4,
   "metadata": {
    "collapsed": false
   },
   "outputs": [
    {
     "name": "stdout",
     "output_type": "stream",
     "text": [
      "START: 61532 57786 46476\n",
      "REMOVE ICU TRANSFERS: 55830 52834 43277\n"
     ]
    }
   ],
   "source": [
    "pats = pd.read_csv(os.path.join(MIMIC_PATH, 'PATIENTS_DATA_TABLE.csv'))\n",
    "pats = pats[['SUBJECT_ID', 'GENDER', 'DOB', 'DOD']]\n",
    "pats.DOB = pd.to_datetime(pats.DOB)\n",
    "pats.DOD = pd.to_datetime(pats.DOD)\n",
    "\n",
    "admits = pd.read_csv(os.path.join(MIMIC_PATH, 'ADMISSIONS_DATA_TABLE.csv'))\n",
    "admits = admits[['SUBJECT_ID', 'HADM_ID', 'DEATHTIME', 'ETHNICITY', 'DIAGNOSIS']]\n",
    "admits.DEATHTIME = pd.to_datetime(admits.DEATHTIME)\n",
    "\n",
    "stays  = pd.read_csv(os.path.join(MIMIC_PATH, 'ICUSTAYS_DATA_TABLE.csv'))\n",
    "print('START:', stays.ICUSTAY_ID.unique().shape[0], stays.HADM_ID.unique().shape[0], stays.SUBJECT_ID.unique().shape[0])\n",
    "stays = stays.ix[(stays.FIRST_WARDID == stays.LAST_WARDID) & (stays.FIRST_CAREUNIT == stays.LAST_CAREUNIT)]\n",
    "stays = stays[['SUBJECT_ID', 'HADM_ID', 'ICUSTAY_ID', 'DBSOURCE', 'INTIME', 'OUTTIME', 'LOS']]\n",
    "\n",
    "stays.INTIME = pd.to_datetime(stays.INTIME)\n",
    "stays.OUTTIME = pd.to_datetime(stays.OUTTIME)\n",
    "print('REMOVE ICU TRANSFERS:', stays.ICUSTAY_ID.unique().shape[0], stays.HADM_ID.unique().shape[0], stays.SUBJECT_ID.unique().shape[0])\n",
    "\n",
    "stays = stays.merge(admits, how='inner', left_on=['SUBJECT_ID', 'HADM_ID'], right_on=['SUBJECT_ID', 'HADM_ID'])\n",
    "stays = stays.merge(pats, how='inner', left_on=['SUBJECT_ID'], right_on=['SUBJECT_ID'])"
   ]
  },
  {
   "cell_type": "code",
   "execution_count": 5,
   "metadata": {
    "collapsed": false,
    "scrolled": true
   },
   "outputs": [
    {
     "name": "stdout",
     "output_type": "stream",
     "text": [
      "REMOVE PATIENTS AGE < 18: 47702 44815 35380\n"
     ]
    }
   ],
   "source": [
    "stays['AGE'] = (stays.INTIME - stays.DOB).apply(lambda s: s / np.timedelta64(1, 's')) / 60./60/24/365\n",
    "stays.loc[stays.AGE<0, 'AGE'] = 90\n",
    "stays = stays.ix[stays.AGE >= 18]\n",
    "print('REMOVE PATIENTS AGE < 18:', stays.ICUSTAY_ID.unique().shape[0], stays.HADM_ID.unique().shape[0], stays.SUBJECT_ID.unique().shape[0])"
   ]
  },
  {
   "cell_type": "code",
   "execution_count": 19,
   "metadata": {
    "collapsed": false
   },
   "outputs": [
    {
     "name": "stdout",
     "output_type": "stream",
     "text": [
      "REMOVE PATIENTS LOS < 6hrs: 47278 44540 35165\n"
     ]
    }
   ],
   "source": [
    "stays = stays.ix[stays.LOS >= .25]\n",
    "print('REMOVE PATIENTS LOS < 6hrs:', stays.ICUSTAY_ID.unique().shape[0], stays.HADM_ID.unique().shape[0], stays.SUBJECT_ID.unique().shape[0])"
   ]
  },
  {
   "cell_type": "markdown",
   "metadata": {},
   "source": [
    "### Structure data by patients"
   ]
  },
  {
   "cell_type": "markdown",
   "metadata": {},
   "source": [
    "#### Build mapping dataframe\n",
    "This imports the map file with the following criteria:  \n",
    "1) Drop labels not mapped to a variable  \n",
    "2) Unsure variables (denoted by the 'ZZZZ' prefix)  \n",
    "2) Variables with 0 counts in respective events tables"
   ]
  },
  {
   "cell_type": "code",
   "execution_count": 20,
   "metadata": {
    "collapsed": false
   },
   "outputs": [],
   "source": [
    "mp = DataFrame.from_csv(VARIABLE_MAP_FILE, index_col=None).fillna('').astype(str)\n",
    "mp.COUNT = pd.to_numeric(mp.COUNT)\n",
    "mp = mp.ix[(mp.VARIABLE != '') & (mp.COUNT>0)]\n",
    "mp = mp.ix[mp.VARIABLE.apply(lambda s: not s.startswith('ZZZZ'))]\n",
    "mp = mp.set_index('ITEMID')"
   ]
  },
  {
   "cell_type": "markdown",
   "metadata": {},
   "source": [
    "#### Random sampling of stays (uncomment for testing)"
   ]
  },
  {
   "cell_type": "code",
   "execution_count": 8,
   "metadata": {
    "collapsed": true
   },
   "outputs": [],
   "source": [
    "stay_idx = np.random.randint(0, high=stays.shape[0], size=100)\n",
    "stays = stays.iloc[stay_idx]"
   ]
  },
  {
   "cell_type": "markdown",
   "metadata": {},
   "source": [
    "#### Create folders for each episode, each with stays.csv and observations.csv"
   ]
  },
  {
   "cell_type": "code",
   "execution_count": 21,
   "metadata": {
    "collapsed": false
   },
   "outputs": [
    {
     "name": "stdout",
     "output_type": "stream",
     "text": [
      "SUBJECT 35164 of 35165...DONE in 634.9 seconds\n"
     ]
    }
   ],
   "source": [
    "OBS_HEADER = [ 'SUBJECT_ID', 'HADM_ID', 'ICUSTAY_ID', 'CHARTTIME', 'VARIABLE', 'VALUE', 'VALUEUOM', 'MIMIC_LABEL' ]\n",
    "nb_subjects = stays.SUBJECT_ID.unique().shape[0]\n",
    "t0 = time.time()\n",
    "for i, subject_id in enumerate(stays.SUBJECT_ID.unique()):\n",
    "    sys.stdout.write('\\rSUBJECT {0} of {1}...'.format(i, nb_subjects))\n",
    "    dn = os.path.join(OUTPUT_PATH, 'Episodes', str(subject_id))\n",
    "    try:\n",
    "        os.makedirs(dn)\n",
    "    except:\n",
    "        pass\n",
    "    \n",
    "    stays.ix[stays.SUBJECT_ID == subject_id].sort_values(by='INTIME').to_csv(os.path.join(dn, 'stays.csv'), index=False)\n",
    "    f = open(os.path.join(dn, 'observations.csv'), 'w')\n",
    "    f.write(','.join(OBS_HEADER) + '\\n')\n",
    "    f.close()\n",
    "        \n",
    "tf = time.time()\n",
    "print ('DONE in %.1f seconds' % (tf-t0))"
   ]
  },
  {
   "cell_type": "markdown",
   "metadata": {},
   "source": [
    "#### Build observations files"
   ]
  },
  {
   "cell_type": "code",
   "execution_count": 22,
   "metadata": {
    "collapsed": false
   },
   "outputs": [
    {
     "name": "stdout",
     "output_type": "stream",
     "text": [
      "processing chartevents: ROW 263201375 of 263201376...last write (2085423) 18 rows for subject 32622DONE after 29944 seconds\n",
      "processing labevents: ROW 27872575 of 27872576...last write (353662) 2 rows for subject 93325DONE after 34524 seconds\n",
      "processing outputevents: ROW 4349339 of 4349340...last write (0) 0 rows for subject DONE after 34647 seconds\n"
     ]
    }
   ],
   "source": [
    "subject_ids = set([ str(s) for s in stays.SUBJECT_ID.unique() ])\n",
    "\n",
    "tables = [ 'chartevents', 'labevents', 'outputevents' ]\n",
    "nb_rows = [ NB_ROWS_CHARTEVENTS, NB_ROWS_LABEVENTS, NB_ROWS_OUTPUTEVENTS ]\n",
    "t0 = time.time()\n",
    "\n",
    "for table, nbr in zip(tables, nb_rows):\n",
    "    r = csv.DictReader(open(os.path.join(MIMIC_PATH, table.upper() + '_DATA_TABLE.csv'), 'r'))\n",
    "    curr_subject_id = ''\n",
    "    last_write_no = 0\n",
    "    last_write_nb_rows = 0\n",
    "    last_write_subject_id = ''\n",
    "    curr_obs = []\n",
    "    for i, row_in in enumerate(r):\n",
    "#         if i >= 20000:\n",
    "#             break\n",
    "        if last_write_no != '':\n",
    "            sys.stdout.write('\\rprocessing {0}: ROW {1} of {2}...last write '\n",
    "                             '({3}) {4} rows for subject {5}'.format(table, i+1, nbr, last_write_no,\n",
    "                                                                     last_write_nb_rows, last_write_subject_id))\n",
    "        else:\n",
    "            sys.stdout.write('\\rprocessing {0}: ROW {1} of {2}...'.format(table, i+1, nbr))\n",
    "        \n",
    "        subject_id = row_in['SUBJECT_ID']\n",
    "        itemid = row_in['ITEMID']\n",
    "        \n",
    "        if subject_id not in subject_ids or itemid not in mp.index:\n",
    "            continue\n",
    "            \n",
    "        row_out = { 'SUBJECT_ID': subject_id,\n",
    "                    'HADM_ID': row_in['HADM_ID'],\n",
    "                    'CHARTTIME': row_in['CHARTTIME'],\n",
    "                    'VARIABLE': mp.VARIABLE[row_in['ITEMID']],\n",
    "                    'MIMIC_LABEL': mp.LABEL[row_in['ITEMID']],\n",
    "                    'VALUE': row_in['VALUE'],\n",
    "                    'VALUEUOM': row_in['VALUEUOM'] }\n",
    "        \n",
    "        try:\n",
    "            row_out['ICUSTAY_ID'] = row_in['ICUSTAY_ID']\n",
    "        except:\n",
    "            row_out['ICUSTAY_ID'] = ''\n",
    "\n",
    "        if curr_subject_id != '' and curr_subject_id != subject_id:\n",
    "            last_write_no += 1\n",
    "            last_write_nb_rows = len(curr_obs)\n",
    "            last_write_subject_id = curr_subject_id\n",
    "            fn = os.path.join(OUTPUT_PATH, 'Episodes', str(curr_subject_id), 'observations.csv')\n",
    "            w = csv.DictWriter(open(fn, 'a', newline=''), fieldnames=OBS_HEADER, quoting=csv.QUOTE_MINIMAL)\n",
    "            w.writerows(curr_obs)\n",
    "            curr_obs = []\n",
    "\n",
    "        curr_obs.append(row_out)\n",
    "        curr_subject_id = subject_id\n",
    "\n",
    "    if curr_subject_id != '':\n",
    "        last_write_no += 1\n",
    "        last_write_nb_rows = len(curr_obs)\n",
    "        last_write_subject_id = curr_subject_id\n",
    "        fn = os.path.join(OUTPUT_PATH, 'Episodes', str(curr_subject_id), 'observations.csv')\n",
    "        w = csv.DictWriter(open(fn, 'a', newline=''), fieldnames=OBS_HEADER, quoting=csv.QUOTE_MINIMAL)\n",
    "        w.writerows(curr_obs)\n",
    "        curr_obs = []\n",
    "    \n",
    "    del r\n",
    "#     sys.stdout.write('\\rprocessing {0}: ROW {1} of {2}...last write '\n",
    "#                      '({3}) {4} rows for subject {5}'.format(table, i, nbr, last_write_no,\n",
    "#                                                              last_write_nb_rows, last_write_subject_id))\n",
    "    tf = time.time()\n",
    "    print('\\nDONE after {:.0f} seconds'.format(tf-t0))"
   ]
  },
  {
   "cell_type": "markdown",
   "metadata": {
    "collapsed": true
   },
   "source": [
    "### Structure data by ITEMIDs"
   ]
  },
  {
   "cell_type": "code",
   "execution_count": 20,
   "metadata": {
    "collapsed": false,
    "scrolled": false
   },
   "outputs": [
    {
     "name": "stdout",
     "output_type": "stream",
     "text": [
      "chartitems Directory already exists. Delete directory first and run again\n",
      "labitems Directory already exists. Delete directory first and run again\n",
      "processing outputevents: ROW 4349338 of 4349340...last write \n",
      "DONE after 313.0 seconds\n"
     ]
    }
   ],
   "source": [
    "mp = DataFrame.from_csv(VARIABLE_MAP_FILE, index_col='ITEMID').fillna('').astype(str)\n",
    "OBS_HEADER = [ 'SUBJECT_ID', 'HADM_ID', 'ICUSTAY_ID', 'CHARTTIME', 'VALUE', 'VALUEUOM', 'MIMIC_LABEL' ]\n",
    "\n",
    "tables = [ 'CHARTEVENTS', 'LABEVENTS', 'OUTPUTEVENTS' ]\n",
    "# item_dicts = ['chartitems', 'labitems', 'outputitems']\n",
    "nb_rows = [ NB_ROWS_CHARTEVENTS, NB_ROWS_LABEVENTS, NB_ROWS_OUTPUTEVENTS ]\n",
    "t0 = time.time()\n",
    "\n",
    "for table, nbr in zip(tables, nb_rows):\n",
    "    try:\n",
    "        os.makedirs(os.path.join(OUTPUT_PATH, table))\n",
    "    except:\n",
    "        print('%s Directory already exists. Delete directory first and run again' % table)\n",
    "        continue\n",
    "    r = csv.DictReader(open(os.path.join(MIMIC_PATH, table + '_DATA_TABLE.csv'), 'r'))\n",
    "    w_dict = {}\n",
    "    for i, row_in in enumerate(r):\n",
    "        item_id = row_in['ITEMID']\n",
    "        sys.stdout.write('\\rprocessing {0}: ROW {1} of {2}...'.format(table, i+1, nbr))\n",
    "        \n",
    "        row_out = { 'SUBJECT_ID': row_in['SUBJECT_ID'],\n",
    "                    'HADM_ID': row_in['HADM_ID'],\n",
    "                    'CHARTTIME': row_in['CHARTTIME'],\n",
    "                    'MIMIC_LABEL': mp.LABEL[int(item_id)],\n",
    "                    'VALUE': row_in['VALUE'],\n",
    "                    'VALUEUOM': row_in['VALUEUOM'] }\n",
    "        try:\n",
    "            row_out['ICUSTAY_ID'] = row_in['ICUSTAY_ID']\n",
    "        except:\n",
    "            row_out['ICUSTAY_ID'] = ''\n",
    "            \n",
    "        if item_id not in w_dict:\n",
    "            fn = os.path.join(OUTPUT_PATH, 'ITEMS', table, str(item_id) + '.csv')\n",
    "            w_dict[item_id] = csv.DictWriter(open(fn, 'a+', newline=''), fieldnames=OBS_HEADER, quoting=csv.QUOTE_MINIMAL)\n",
    "            w_dict[item_id].writeheader()\n",
    "\n",
    "        w_dict[item_id].writerow(row_out)\n",
    "        \n",
    "\n",
    "    del r, w_dict\n",
    "    tf = time.time()\n",
    "    print('\\nDONE after {:.1f} seconds'.format(tf-t0))\n"
   ]
  },
  {
   "cell_type": "markdown",
   "metadata": {},
   "source": [
    "### Exploratory analysis: stats, measurement frequency, visualization"
   ]
  },
  {
   "cell_type": "code",
   "execution_count": 188,
   "metadata": {
    "collapsed": true
   },
   "outputs": [
    {
     "name": "stdout",
     "output_type": "stream",
     "text": [
      "1/7 ITEMID 778 added to list. N=283616, u=41.73, std=9.92, min=0, max=100\n",
      "2/7 ITEMID 220235 added to list. N=140215, u=42.30, std=12.93, min=0, max=2583\n",
      "3/7 ITEMID 858 added to list. N=10623, u=48.97, std=13.27, min=0, max=100\n",
      "4/7 ITEMID 3835 added to list. N=9486, u=48.51, std=12.92, min=11, max=165\n",
      "5/7 ITEMID 3836 added to list. N=8445, u=53.40, std=12.69, min=10, max=138\n",
      "6/7 ITEMID 4201 added to list. N=8106, u=53.35, std=12.73, min=10, max=138\n",
      "7/7 ITEMID 3784 added to list. N=5314, u=51.15, std=13.70, min=1, max=140\n",
      "\n",
      "7/7 input ITEMIDs have valid datasets... making plots\n"
     ]
    },
    {
     "data": {
      "image/png": "[encoded data removed]",
      "text/plain": [
       "<matplotlib.figure.Figure at 0x23d98703ef0>"
      ]
     },
     "metadata": {},
     "output_type": "display_data"
    }
   ],
   "source": [
    "# Build list of itemids of interest here-\n",
    "ids_cap_refill_rate = [3348,115,8377,224308,223951]\n",
    "ids_bp_diastolic = [8368,8441,220180,220051,8502,225310,8555,8440,8503,8504,8507,8506,224643,227242,8364,8448,220060,8508,8505,8444,8446,226094,226092,8445,226096,228151]\n",
    "ids_pco2 = [50804,50818,778,777,220235,225698,3810,858,3835,3808,857,3836,3809,4201,4199,3784,223679]\n",
    "ids_pco2f = [778,220235,858,3835,3836,4201,3784]\n",
    "ids_urineout = [40055,226559,43175,40069,40094,40065,40061,40715,226627,40473,227489,40085,40057,40056,40405,40288]\n",
    "ids_urineoutf = [40055,226559,40715,40473,227489,40057,40056,40405]\n",
    "ids_bilirubin = [50885,51464,50883,50884,225690,225651,50838,51028,51049,51465,4948,226998,51012]\n",
    "ids_bilirubinf = [50885,225690]\n",
    "ids_hr = [211,212,220045]\n",
    "ids = ids_pco2f\n",
    "\n",
    "itemids = []\n",
    "df_list = []\n",
    "mp = DataFrame.from_csv(VARIABLE_MAP_FILE, index_col='ITEMID')\n",
    "\n",
    "# Calculate stats\n",
    "for i, itemid in enumerate(ids):\n",
    "    fns = glob.glob(OUTPUT_PATH + '/ITEMS/*/' + str(itemid) + '.csv')\n",
    "    sys.stdout.flush()\n",
    "    if len(fns) > 1:\n",
    "        print('ITEMID {0} found in multiple directories.'.format(itemid))\n",
    "    elif len(fns) == 1:\n",
    "        df = DataFrame.from_csv(fns[0], index_col=None)['VALUE']\n",
    "        df = pd.to_numeric(df, errors='coerce')\n",
    "        df_list.append(df)\n",
    "        itemids.append(itemid)\n",
    "        print('{0}/{1} ITEMID {2} added to list. N={3:d}, u={4:.2f}, std={5:.2f}, min={6:.0f}, max={7:.0f}'\n",
    "              .format(i+1, len(ids), itemid, df.shape[0], df.mean(), df.std(), df.min(), df.max()))\n",
    "    else:\n",
    "        print('{0}/{1} ITEMID {2}.csv does not exist...skipping'.format(i+1, len(ids), itemid))\n",
    "\n",
    "# Visualization\n",
    "num_plots = len(df_list)\n",
    "print('\\n{0}/{1} input ITEMIDs have valid datasets... making plots'.format(num_plots, len(ids)))\n",
    "sys.stdout.flush()\n",
    "limit = 50\n",
    "\n",
    "if num_plots > 0:\n",
    "    fig, axs = plt.subplots(num_plots, 1)\n",
    "    if type(axs) is not np.ndarray:\n",
    "        print('fixing')\n",
    "        axs = np.array([axs])\n",
    "    fig.set_size_inches(10,3*num_plots)\n",
    "    for i, (df, itemid) in enumerate(zip(df_list, itemids)):\n",
    "        curr_ax = axs[i]\n",
    "#         curr_ax.set_xlim(0, limit)\n",
    "#         df = df.ix[df < 100]\n",
    "        df.hist(ax=axs[i], bins=100)\n",
    "        curr_ax.set_title(mp.LABEL[itemid] + ', id:' + str(itemid))\n"
   ]
  },
  {
   "cell_type": "code",
   "execution_count": 178,
   "metadata": {
    "collapsed": false,
    "scrolled": true
   },
   "outputs": [
    {
     "name": "stdout",
     "output_type": "stream",
     "text": [
      "0 days 07:47:56.250000\n"
     ]
    }
   ],
   "source": [
    "def mean_meas_freq(itemid):\n",
    "    fns = glob.glob(OUTPUT_PATH + '/ITEMS/*/' + str(itemid) + '.csv')\n",
    "    df = DataFrame.from_csv(fns[0], index_col=None)\n",
    "#     df = df.dropna(axis=0, subset=['VALUE'])\n",
    "    df['CHARTTIME'] = pd.to_datetime(df['CHARTTIME'])\n",
    "    df = df.sort_values('CHARTTIME')\n",
    "    pat_groups = df.groupby('SUBJECT_ID')\n",
    "#     print(df.ix[pat_groups.groups[68]])\n",
    "    print(df['CHARTTIME'].ix[pat_groups.groups[68]].diff().mean())\n",
    "    \n",
    "#     for pat in pat_groups:\n",
    "        \n",
    "#     a =df['CHARTTIME'][3]\n",
    "#     a = pd.to_datetime(df['CHARTTIME'], format=%)\n",
    "#     print(type(a[3]))\n",
    "#     print(df)\n",
    "    \n",
    "    \n",
    "\n",
    "mean_meas_freq(858)"
   ]
  }
 ],
 "metadata": {
  "kernelspec": {
   "display_name": "Python 3",
   "language": "python",
   "name": "python3"
  },
  "language_info": {
   "codemirror_mode": {
    "name": "ipython",
    "version": 3
   },
   "file_extension": ".py",
   "mimetype": "text/x-python",
   "name": "python",
   "nbconvert_exporter": "python",
   "pygments_lexer": "ipython3",
   "version": "3.5.1"
  }
 },
 "nbformat": 4,
 "nbformat_minor": 0
}
