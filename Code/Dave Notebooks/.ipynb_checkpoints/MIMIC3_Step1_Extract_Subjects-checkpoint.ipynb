{
 "cells": [
  {
   "cell_type": "code",
   "execution_count": null,
   "metadata": {
    "collapsed": false
   },
   "outputs": [],
   "source": [
    "%pylab inline"
   ]
  },
  {
   "cell_type": "code",
   "execution_count": 13,
   "metadata": {
    "collapsed": true
   },
   "outputs": [],
   "source": [
    "import csv\n",
    "import numpy as np\n",
    "import os\n",
    "import pandas as pd\n",
    "import sys\n",
    "import time\n",
    "\n",
    "from collections import defaultdict\n",
    "from pandas import DataFrame"
   ]
  },
  {
   "cell_type": "code",
   "execution_count": 5,
   "metadata": {
    "collapsed": true
   },
   "outputs": [],
   "source": [
    "# set these as appropriate\n",
    "\n",
    "MIMIC_PATH = '/Users/Mark/Downloads/MIMIC Data/Original'\n",
    "VARIABLE_MAP_FILE = '/Users/Mark/Documents/GitHub/MIMIC-Machine-Learning/Dave/mimic3_map.csv'\n",
    "OUTPUT_PATH = '/Users/Mark/Downloads/MIMIC Data/Processed'\n",
    "\n",
    "try:\n",
    "    os.makedirs(OUTPUT_PATH)\n",
    "except:\n",
    "    pass"
   ]
  },
  {
   "cell_type": "code",
   "execution_count": 6,
   "metadata": {
    "collapsed": true
   },
   "outputs": [],
   "source": [
    "OBS_HEADER = [ 'SUBJECT_ID', 'HADM_ID', 'ICUSTAY_ID', 'CHARTTIME', 'VARIABLE', 'VALUE', 'VALUEUOM', 'MIMIC_LABEL' ]\n",
    "NB_ROWS_CHARTEVENTS = 263201376\n",
    "NB_ROWS_LABEVENTS = 27872576\n",
    "NB_ROWS_OUTPUTEVENTS = 4349340"
   ]
  },
  {
   "cell_type": "code",
   "execution_count": 8,
   "metadata": {
    "collapsed": false
   },
   "outputs": [
    {
     "name": "stdout",
     "output_type": "stream",
     "text": [
      "START: 61532 57786 46476\n",
      "REMOVE ICU TRANSFERS: 55830 52834 43277\n"
     ]
    }
   ],
   "source": [
    "pats = DataFrame.from_csv(os.path.join(MIMIC_PATH, 'PATIENTS_DATA_TABLE.csv'))\n",
    "pats = pats[['SUBJECT_ID', 'GENDER', 'DOB', 'DOD']]\n",
    "pats.DOB = pd.to_datetime(pats.DOB)\n",
    "pats.DOD = pd.to_datetime(pats.DOD)\n",
    "\n",
    "admits = DataFrame.from_csv(os.path.join(MIMIC_PATH, 'ADMISSIONS_DATA_TABLE.csv'))\n",
    "admits = admits[['SUBJECT_ID', 'HADM_ID', 'DEATHTIME', 'ETHNICITY', 'DIAGNOSIS']]\n",
    "admits.DEATHTIME = pd.to_datetime(admits.DEATHTIME)\n",
    "\n",
    "stays  = DataFrame.from_csv(os.path.join(MIMIC_PATH, 'ICUSTAYS_DATA_TABLE.csv'))\n",
    "print('START:', stays.ICUSTAY_ID.unique().shape[0], stays.HADM_ID.unique().shape[0], stays.SUBJECT_ID.unique().shape[0])\n",
    "\n",
    "stays = stays.ix[(stays.FIRST_WARDID == stays.LAST_WARDID) & (stays.FIRST_CAREUNIT == stays.LAST_CAREUNIT)]\n",
    "stays = stays[['SUBJECT_ID', 'HADM_ID', 'ICUSTAY_ID', 'DBSOURCE', 'INTIME', 'OUTTIME', 'LOS']]\n",
    "stays.INTIME = pd.to_datetime(stays.INTIME)\n",
    "stays.OUTTIME = pd.to_datetime(stays.OUTTIME)\n",
    "print('REMOVE ICU TRANSFERS:', stays.ICUSTAY_ID.unique().shape[0], stays.HADM_ID.unique().shape[0], stays.SUBJECT_ID.unique().shape[0])\n",
    "\n",
    "stays = stays.merge(admits, how='inner', left_on=['SUBJECT_ID', 'HADM_ID'], right_on=['SUBJECT_ID', 'HADM_ID'])\n",
    "stays = stays.merge(pats, how='inner', left_on=['SUBJECT_ID'], right_on=['SUBJECT_ID'])"
   ]
  },
  {
   "cell_type": "code",
   "execution_count": 9,
   "metadata": {
    "collapsed": false
   },
   "outputs": [
    {
     "name": "stdout",
     "output_type": "stream",
     "text": [
      "REMOVE MULTIPLE STAYS PER ADMIT: 50186 50186 41587\n"
     ]
    }
   ],
   "source": [
    "to_keep = stays.groupby('HADM_ID').count()[['ICUSTAY_ID']].reset_index()\n",
    "to_keep = to_keep.ix[to_keep.ICUSTAY_ID==1][['HADM_ID']]\n",
    "stays = stays.merge(to_keep, how='inner', left_on='HADM_ID', right_on='HADM_ID')\n",
    "print('REMOVE MULTIPLE STAYS PER ADMIT:', stays.ICUSTAY_ID.unique().shape[0], stays.HADM_ID.unique().shape[0], stays.SUBJECT_ID.unique().shape[0])"
   ]
  },
  {
   "cell_type": "code",
   "execution_count": 10,
   "metadata": {
    "collapsed": false
   },
   "outputs": [
    {
     "name": "stdout",
     "output_type": "stream",
     "text": [
      "REMOVE PATIENTS AGE < 18: 42276 42276 33798\n"
     ]
    },
    {
     "name": "stderr",
     "output_type": "stream",
     "text": [
      "C:\\Users\\Mark\\Miniconda3\\lib\\site-packages\\ipykernel\\__main__.py:2: SettingWithCopyWarning: \n",
      "A value is trying to be set on a copy of a slice from a DataFrame\n",
      "\n",
      "See the caveats in the documentation: http://pandas.pydata.org/pandas-docs/stable/indexing.html#indexing-view-versus-copy\n",
      "  from ipykernel import kernelapp as app\n"
     ]
    }
   ],
   "source": [
    "stays['AGE'] = (stays.INTIME - stays.DOB).apply(lambda s: s / np.timedelta64(1, 's')) / 60./60/24/365\n",
    "stays.AGE[stays.AGE<0] = 90\n",
    "stays = stays.ix[stays.AGE >= 18]\n",
    "print('REMOVE PATIENTS AGE < 18:', stays.ICUSTAY_ID.unique().shape[0], stays.HADM_ID.unique().shape[0], stays.SUBJECT_ID.unique().shape[0])"
   ]
  },
  {
   "cell_type": "code",
   "execution_count": 11,
   "metadata": {
    "collapsed": true
   },
   "outputs": [],
   "source": [
    "diag_codes = DataFrame.from_csv(os.path.join(MIMIC_PATH, 'D_ICD_DIAGNOSES_DATA_TABLE.csv')).set_index('ICD9_CODE')\n",
    "diagnoses = DataFrame.from_csv(os.path.join(MIMIC_PATH, 'DIAGNOSES_ICD_DATA_TABLE.csv'))\n",
    "diagnoses = diagnoses.merge(stays[['SUBJECT_ID', 'HADM_ID', 'ICUSTAY_ID']].drop_duplicates(),\n",
    "                            left_on=['SUBJECT_ID', 'HADM_ID'], right_on=['SUBJECT_ID', 'HADM_ID'])\n",
    "diagnoses = diagnoses.sort_values(by=['SUBJECT_ID', 'HADM_ID', 'SEQ_NUM'])\n",
    "diag_codes['COUNT'] = diagnoses.ICD9_CODE.value_counts()\n",
    "diag_codes.sort_values('COUNT', ascending=False, inplace=True)\n",
    "diag_codes = diag_codes.ix[diag_codes.COUNT.notnull()]\n",
    "diag_codes.to_csv(os.path.join(OUTPUT_PATH, 'diagnostic_code_stats.csv'), index_label='ICD9_CODE')"
   ]
  },
  {
   "cell_type": "code",
   "execution_count": 12,
   "metadata": {
    "collapsed": false
   },
   "outputs": [],
   "source": [
    "# uncomment when testing\n",
    "\n",
    "stay_idx = np.random.randint(0, high=stays.shape[0], size=1000)\n",
    "stays = stays.iloc[stay_idx]"
   ]
  },
  {
   "cell_type": "code",
   "execution_count": 15,
   "metadata": {
    "collapsed": false
   },
   "outputs": [
    {
     "name": "stdout",
     "output_type": "stream",
     "text": [
      "SUBJECT 978 of 979...DONE!\n",
      "total time: 15.366610050201416\n"
     ]
    }
   ],
   "source": [
    "nb_subjects = stays.SUBJECT_ID.unique().shape[0]\n",
    "t0 = time.time()\n",
    "for i, subject_id in enumerate(stays.SUBJECT_ID.unique()):\n",
    "    sys.stdout.write('\\rSUBJECT {0} of {1}...'.format(i, nb_subjects))\n",
    "    dn = os.path.join(OUTPUT_PATH, str(subject_id))\n",
    "    try:\n",
    "        os.makedirs(dn)\n",
    "    except:\n",
    "        pass\n",
    "    \n",
    "    stays.ix[stays.SUBJECT_ID == subject_id].sort_values(by='INTIME').to_csv(os.path.join(dn, 'stays.csv'), index=False)\n",
    "    diagnoses.ix[diagnoses.SUBJECT_ID == subject_id].sort_values(by=['ICUSTAY_ID','SEQ_NUM']).to_csv(os.path.join(dn, 'diagnoses.csv'), index=False)\n",
    "    f = open(os.path.join(dn, 'observations.csv'), 'w')\n",
    "    f.write(','.join(OBS_HEADER) + '\\n')\n",
    "    f.close()\n",
    "print('DONE!')\n",
    "t1 = time.time()\n",
    "print('total time:', t1-t0)"
   ]
  },
  {
   "cell_type": "code",
   "execution_count": null,
   "metadata": {
    "collapsed": false
   },
   "outputs": [],
   "source": [
    "mp = DataFrame.from_csv(VARIABLE_MAP_FILE, index_col=None).fillna('').astype(str)\n",
    "mp = mp.ix[(mp.VARIABLE != '') & (mp.COUNT>0)]\n",
    "mp = mp.ix[mp.VARIABLE.apply(lambda s: not s.startswith('ZZZZ'))]\n",
    "mp = mp.set_index('ITEMID')"
   ]
  },
  {
   "cell_type": "code",
   "execution_count": null,
   "metadata": {
    "collapsed": false,
    "scrolled": true
   },
   "outputs": [],
   "source": [
    "subject_ids = set([ str(s) for s in stays.SUBJECT_ID.unique() ])\n",
    "\n",
    "tables = [ 'chartevents', 'labevents' ] #, 'outputevents' ]\n",
    "nb_rows = [ NB_ROWS_CHARTEVENTS, NB_ROWS_LABEVENTS ] #, NB_ROWS_OUTPUTEVENTS ]\n",
    "\n",
    "for table, nbr in zip(tables, nb_rows):\n",
    "    r = csv.DictReader(open(os.path.join(MIMIC_PATH, table.upper() + '_DATA_TABLE.csv'), 'r'))\n",
    "    curr_subject_id = ''\n",
    "    last_write_no = 0\n",
    "    last_write_nb_rows = 0\n",
    "    last_write_subject_id = ''\n",
    "    curr_obs = []\n",
    "    for i,row_in in enumerate(r):\n",
    "        if last_write_no != '':\n",
    "            sys.stdout.write('\\rprocessing {0}: ROW {1} of {2}...last write '\n",
    "                             '({3}) {4} rows for subject {5}'.format(table, i, nbr, last_write_no,\n",
    "                                                                     last_write_nb_rows, last_write_subject_id))\n",
    "        else:\n",
    "            sys.stdout.write('\\rprocessing {0}: ROW {1} of {2}...'.format(table, i, nbr))\n",
    "\n",
    "        subject_id = row_in['SUBJECT_ID']\n",
    "        itemid = row_in['ITEMID']\n",
    "        \n",
    "        if subject_id not in subject_ids or itemid not in mp.index:\n",
    "            continue\n",
    "\n",
    "        row_out = { 'SUBJECT_ID': subject_id,\n",
    "                    'HADM_ID': row_in['HADM_ID'],\n",
    "                    'CHARTTIME': row_in['CHARTTIME'],\n",
    "                    'VARIABLE': mp.VARIABLE[row_in['ITEMID']],\n",
    "                    'MIMIC_LABEL': mp.LABEL[row_in['ITEMID']],\n",
    "                    'VALUE': row_in['VALUE'],\n",
    "                    'VALUEUOM': row_in['VALUEUOM'] }\n",
    "        \n",
    "        try:\n",
    "            row_out['ICUSTAY_ID'] = row_in['ICUSTAY_ID']\n",
    "        except:\n",
    "            row_out['ICUSTAY_ID'] = ''\n",
    "\n",
    "        if curr_subject_id != '' and curr_subject_id != subject_id:\n",
    "            last_write_no += 1\n",
    "            last_write_nb_rows = len(curr_obs)\n",
    "            last_write_subject_id = curr_subject_id\n",
    "            fn = os.path.join(OUTPUT_PATH, str(curr_subject_id), 'observations.csv')\n",
    "            w = csv.DictWriter(open(fn, 'a'), fieldnames=OBS_HEADER, quoting=csv.QUOTE_MINIMAL)\n",
    "            w.writerows(curr_obs)\n",
    "            curr_obs = []\n",
    "\n",
    "        curr_obs.append(row_out)\n",
    "        curr_subject_id = subject_id\n",
    "\n",
    "    if curr_subject_id != '':\n",
    "        last_write_no += 1\n",
    "        last_write_nb_rows = len(curr_obs)\n",
    "        last_write_subject_id = curr_subject_id\n",
    "        fn = os.path.join(OUTPUT_PATH, str(curr_subject_id), 'observations.csv')\n",
    "        w = csv.DictWriter(open(fn, 'a'), fieldnames=OBS_HEADER, quoting=csv.QUOTE_MINIMAL)\n",
    "        w.writerows(curr_obs)\n",
    "        curr_obs = []\n",
    "    \n",
    "    del r\n",
    "    sys.stdout.write('\\rprocessing {0}: ROW {1} of {2}...last write '\n",
    "                     '({3}) {4} rows for subject {5}'.format(table, i, nbr, last_write_no,\n",
    "                                                             last_write_nb_rows, last_write_subject_id))\n",
    "    print(' DONE!')"
   ]
  }
 ],
 "metadata": {
  "kernelspec": {
   "display_name": "Python 2",
   "language": "python",
   "name": "python2"
  },
  "language_info": {
   "codemirror_mode": {
    "name": "ipython",
    "version": 2
   },
   "file_extension": ".py",
   "mimetype": "text/x-python",
   "name": "python",
   "nbconvert_exporter": "python",
   "pygments_lexer": "ipython2",
   "version": "2.7.11"
  }
 },
 "nbformat": 4,
 "nbformat_minor": 0
}
