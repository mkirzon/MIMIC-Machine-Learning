{
 "cells": [
  {
   "cell_type": "code",
   "execution_count": null,
   "metadata": {
    "collapsed": false
   },
   "outputs": [],
   "source": [
    "#%pylab inline"
   ]
  },
  {
   "cell_type": "code",
   "execution_count": null,
   "metadata": {
    "collapsed": true
   },
   "outputs": [],
   "source": [
    "import numpy as np\n",
    "import os\n",
    "import pandas as pd\n",
    "import sys\n",
    "import time\n",
    "\n",
    "from pandas import DataFrame, TimedeltaIndex, Series\n",
    "from pandas.tslib import Timestamp\n",
    "#from itertools import chain\n",
    "#from progressbar import ProgressBar"
   ]
  },
  {
   "cell_type": "code",
   "execution_count": null,
   "metadata": {
    "collapsed": false
   },
   "outputs": [],
   "source": [
    "### set paths to lookup data ###\n",
    "\n",
    "MIMIC3_PATH = '/Users/davekale/data/mimic3_12'\n",
    "OUTPUT_PATH = '/Users/davekale/data/mimic3_12'\n",
    "VAR_BOUNDS_FILE = '/Users/davekale/data/mimic3_variables.csv'\n",
    "try:\n",
    "    os.makedirs(OUTPUT_PATH)\n",
    "except:\n",
    "    pass"
   ]
  },
  {
   "cell_type": "code",
   "execution_count": null,
   "metadata": {
    "collapsed": false
   },
   "outputs": [],
   "source": [
    "var_bounds = DataFrame.from_csv(VAR_BOUNDS_FILE, index_col='variable')"
   ]
  },
  {
   "cell_type": "code",
   "execution_count": null,
   "metadata": {
    "collapsed": false
   },
   "outputs": [],
   "source": [
    "st = time.time()\n",
    "sys.stdout.write('Loading data...')\n",
    "sys.stdout.flush()\n",
    "ndata = np.load(os.path.join(OUTPUT_PATH, 'mimic3_12.npz'))\n",
    "X = ndata['X']\n",
    "X_names = ndata['X_names']\n",
    "\n",
    "episode_id = ndata['episode_id']\n",
    "admit_id = ndata['admit_id']\n",
    "patient_id = ndata['patient_id']\n",
    "encounter_no = ndata['encounter_no']\n",
    "age = ndata['age']\n",
    "race = ndata['race']\n",
    "sex = ndata['sex']\n",
    "admit_diagnosis = ndata['admit_diagnosis']\n",
    "race_categories = ndata['race_categories']\n",
    "sex_categories = ndata['sex_categories']\n",
    "admit_diagnoses = ndata['admit_diagnoses']\n",
    "\n",
    "Yd = ndata['Yd']\n",
    "ymort = ndata['ymort']\n",
    "ylos = ndata['ylos']\n",
    "\n",
    "Yd_codes = ndata['Yd_codes']\n",
    "print 'Took {0} secs'.format(time.time()-st)"
   ]
  },
  {
   "cell_type": "code",
   "execution_count": null,
   "metadata": {
    "collapsed": false
   },
   "outputs": [],
   "source": [
    "### do some additional data processing ###\n",
    "\n",
    "X_hr = []\n",
    "Ximp_hr = []\n",
    "\n",
    "print 'Processing data...'\n",
    "#bar = ProgressBar()\n",
    "st = time.time()\n",
    "#for xid in bar(range(X.shape[0])):\n",
    "for xid in range(X.shape[0]):\n",
    "    # timestamps\n",
    "    x = DataFrame(X[xid], columns=X_names)\n",
    "    x.time = TimedeltaIndex(x.time, 'm')\n",
    "    x.set_index('time', inplace=True)\n",
    "    \n",
    "    # create hourly resampled\n",
    "    x_hr = x.resample('1H', how='mean', closed='left')\n",
    "    assert(x_hr.index[0].total_seconds() == 0)\n",
    "    ximp_hr = x_hr.combine_first(x.resample('1H', how='last', fill_method='ffill', closed='left'))\n",
    "    assert(ximp_hr.index[0].total_seconds() == 0)\n",
    "    for c in np.intersect1d(ximp_hr.columns, var_bounds.index):\n",
    "        v = ximp_hr[c]\n",
    "        v[v.isnull()] = var_bounds.imputeValue[c]\n",
    "        ximp_hr[c] = v\n",
    "    assert(ximp_hr.notnull().all().all())\n",
    "    \n",
    "    X_hr.append(x_hr.values)\n",
    "    Ximp_hr.append(ximp_hr.values)\n",
    "\n",
    "print 'Took', time.time()-st"
   ]
  },
  {
   "cell_type": "code",
   "execution_count": null,
   "metadata": {
    "collapsed": false
   },
   "outputs": [],
   "source": [
    "fns = [ os.path.join(OUTPUT_PATH, 'mimic3_11_resampled.npz'),\n",
    "       os.path.join(OUTPUT_PATH, 'mimic3_11_resampled-imputed.npz')\n",
    "     ]\n",
    "sequences = [ X_hr, Ximp_hr ]\n",
    "for fn, seq in zip(fns, sequences):\n",
    "    sys.stdout.write(fn + '...')\n",
    "    sys.stdout.flush()\n",
    "    st = time.time()\n",
    "    np.savez(fn,X=seq,\n",
    "                episode_id=episode_id,\n",
    "                admit_id=admit_id,\n",
    "                patient_id=patient_id,\n",
    "                encounter_no=encounter_no,\n",
    "                age=age,\n",
    "                race=race,\n",
    "                sex=sex,\n",
    "                admit_diagnosis=admit_diagnosis,\n",
    "                Yd=Yd,\n",
    "                ymort=ymort,\n",
    "                ylos=ylos,\n",
    "                race_categories=race_categories,\n",
    "                sex_categories=sex_categories,\n",
    "                admit_diagnoses=admit_diagnoses,\n",
    "                Yd_codes=Yd_codes,\n",
    "                X_names=X_names[1:])\n",
    "    print 'DONE! Took', time.time()-st, 'secs'"
   ]
  }
 ],
 "metadata": {
  "kernelspec": {
   "display_name": "Python 2",
   "language": "python",
   "name": "python2"
  },
  "language_info": {
   "codemirror_mode": {
    "name": "ipython",
    "version": 2
   },
   "file_extension": ".py",
   "mimetype": "text/x-python",
   "name": "python",
   "nbconvert_exporter": "python",
   "pygments_lexer": "ipython2",
   "version": "2.7.11"
  }
 },
 "nbformat": 4,
 "nbformat_minor": 0
}
