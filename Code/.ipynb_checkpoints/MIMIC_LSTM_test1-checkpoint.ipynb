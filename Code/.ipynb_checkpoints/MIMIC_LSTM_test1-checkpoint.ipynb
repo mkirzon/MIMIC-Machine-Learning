{
 "cells": [
  {
   "cell_type": "code",
   "execution_count": 1,
   "metadata": {
    "collapsed": false
   },
   "outputs": [
    {
     "ename": "ImportError",
     "evalue": "No module named keras.preprocessing",
     "output_type": "error",
     "traceback": [
      "\u001b[1;31m---------------------------------------------------------------------------\u001b[0m",
      "\u001b[1;31mImportError\u001b[0m                               Traceback (most recent call last)",
      "\u001b[1;32m<ipython-input-1-a0c6918734b5>\u001b[0m in \u001b[0;36m<module>\u001b[1;34m()\u001b[0m\n\u001b[0;32m      3\u001b[0m \u001b[0mnp\u001b[0m\u001b[1;33m.\u001b[0m\u001b[0mrandom\u001b[0m\u001b[1;33m.\u001b[0m\u001b[0mseed\u001b[0m\u001b[1;33m(\u001b[0m\u001b[1;36m1337\u001b[0m\u001b[1;33m)\u001b[0m  \u001b[1;31m# for reproducibility\u001b[0m\u001b[1;33m\u001b[0m\u001b[0m\n\u001b[0;32m      4\u001b[0m \u001b[1;33m\u001b[0m\u001b[0m\n\u001b[1;32m----> 5\u001b[1;33m \u001b[1;32mfrom\u001b[0m \u001b[0mkeras\u001b[0m\u001b[1;33m.\u001b[0m\u001b[0mpreprocessing\u001b[0m \u001b[1;32mimport\u001b[0m \u001b[0msequence\u001b[0m\u001b[1;33m\u001b[0m\u001b[0m\n\u001b[0m\u001b[0;32m      6\u001b[0m \u001b[1;32mfrom\u001b[0m \u001b[0mkeras\u001b[0m\u001b[1;33m.\u001b[0m\u001b[0mutils\u001b[0m \u001b[1;32mimport\u001b[0m \u001b[0mnp_utils\u001b[0m\u001b[1;33m\u001b[0m\u001b[0m\n\u001b[0;32m      7\u001b[0m \u001b[1;32mfrom\u001b[0m \u001b[0mkeras\u001b[0m\u001b[1;33m.\u001b[0m\u001b[0mmodels\u001b[0m \u001b[1;32mimport\u001b[0m \u001b[0mSequential\u001b[0m\u001b[1;33m\u001b[0m\u001b[0m\n",
      "\u001b[1;31mImportError\u001b[0m: No module named keras.preprocessing"
     ]
    }
   ],
   "source": [
    "from __future__ import print_function\n",
    "import numpy as np\n",
    "np.random.seed(1337)  # for reproducibility\n",
    "\n",
    "from keras.preprocessing import sequence\n",
    "from keras.utils import np_utils\n",
    "from keras.models import Sequential\n",
    "from keras.layers.core import Dense, Dropout, Activation\n",
    "from keras.layers.recurrent import LSTM\n",
    "import matplotlib.pyplot as plt"
   ]
  },
  {
   "cell_type": "code",
   "execution_count": null,
   "metadata": {
    "collapsed": true
   },
   "outputs": [],
   "source": [
    "# Prepare the data X_train, and y_train, X_test, y_test\n",
    "DATA_PATH = '/Users/Mark/Downloads/MIMIC Data/Processed'\n",
    "\n",
    "nb_samples = 1000\n",
    "test_split = 0.2\n",
    "\n",
    "# Loading data from .npz file into dictionary form\n",
    "data = np.load(DATA_PATH)\n",
    "X_raw = data['X'][0:nb_samples]\n",
    "y_raw = data['ylos'][0:nb_samples]\n",
    "\n",
    "# Spliting data for the use of training and testing\n",
    "X_raw_test = X_raw[0:len(X)*test_split]\n",
    "y_raw_test = y_raw[0:len(y)*test_split]\n",
    "X_raw_train = X_raw[len(X)*test_split+1:]\n",
    "y_raw_train = y_raw[len(y)*test_split+1:]\n",
    "\n",
    "# Cut every samples, in matrix form (timesteps, variables), half in length of timesteps, create another set of samples\n",
    "# Devide the output, LOS, of new samples in half indicating the remaining LOS\n",
    "X_raw_train_half = [samp[0:(X_raw_train.shape[0])/2, :] for samp in X_raw_train]\n",
    "y_raw_train_half = [samp/2 for samp in y_raw_train]\n",
    "\n",
    "# Concatenate the original set of samples and the new set, half in length\n",
    "# Set the output of the original set of samples to 0, meaning the remaining LOS\n",
    "# Now, we have 2*nb_samples samples and results. Every sample have an output of remaining LOS, half of them are 0.\n",
    "X_train = np.concatenate((X_raw_train,X_raw_train_half),axis=0)\n",
    "y_train = np.concatenate((np.zeros(len(y_raw_train)), y_raw_train_half),axis=0)\n"
   ]
  },
  {
   "cell_type": "code",
   "execution_count": null,
   "metadata": {
    "collapsed": true
   },
   "outputs": [],
   "source": [
    "# since we are using stateful rnn tsteps can be set to 1\n",
    "nb_featrues = 12\n",
    "tsteps = 300\n",
    "\n",
    "# Number of samples used for every weight update iteration\n",
    "batch_size = 5\n",
    "\n",
    "# Number of overall training iteration\n",
    "epochs = 3\n",
    "\n",
    "# number of elements ahead that are used to make the prediction\n",
    "lahead = 1"
   ]
  },
  {
   "cell_type": "code",
   "execution_count": null,
   "metadata": {
    "collapsed": true
   },
   "outputs": [],
   "source": [
    "# Create a model with 1 output dimension, flexible input_dim and input_length, \n",
    "print('Creating Model')\n",
    "model = Sequential()\n",
    "model.add(LSTM(output_dim = 1, \n",
    "               return_sequences=False, \n",
    "               input_dim=None, \n",
    "               dropout_U=0.5, \n",
    "               activation='tanh', \n",
    "               inner_activation='hard_sigmoid'))\n",
    "\n",
    "\n",
    "# Build the model, with lost function Mean Squared Error\n",
    "# RMSProp as the optimizer, could also try 'sgd' or 'adagrad' later\n",
    "model.compile(loss='mse', optimizer='rmsprop')"
   ]
  },
  {
   "cell_type": "code",
   "execution_count": null,
   "metadata": {
    "collapsed": true
   },
   "outputs": [],
   "source": [
    "# X_train should be a 3D list or ndarray in the form of (nb_sample, time_steps, variables)\n",
    "# y_train should be a 1D list or ndarray in the form of (output,) which is a vector of LOS's\n",
    "# batch_size is how many samples been used for a single pass(forward and backward pass)\n",
    "# validation_split is the fraction of training date been used for validation\n",
    "print('Train...')\n",
    "model.fit(X_train, \n",
    "          y_train, \n",
    "          batch_size = batch_size, \n",
    "          nb_epoch = epochs,\n",
    "          validation_split = 0.1\n",
    "          show_accuracy = True\n",
    "          )\n",
    "\n"
   ]
  },
  {
   "cell_type": "code",
   "execution_count": null,
   "metadata": {
    "collapsed": true
   },
   "outputs": [],
   "source": [
    "print('Evaluation...')\n",
    "score, acc = model.evaluate(X_test, y_test,\n",
    "                            batch_size=batch_size,\n",
    "                            show_accuracy=True)\n"
   ]
  }
 ],
 "metadata": {
  "kernelspec": {
   "display_name": "Python 2",
   "language": "python",
   "name": "python2"
  },
  "language_info": {
   "codemirror_mode": {
    "name": "ipython",
    "version": 2
   },
   "file_extension": ".py",
   "mimetype": "text/x-python",
   "name": "python",
   "nbconvert_exporter": "python",
   "pygments_lexer": "ipython2",
   "version": "2.7.11"
  }
 },
 "nbformat": 4,
 "nbformat_minor": 0
}
