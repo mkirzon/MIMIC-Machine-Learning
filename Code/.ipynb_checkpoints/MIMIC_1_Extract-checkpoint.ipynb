{
 "cells": [
  {
   "cell_type": "markdown",
   "metadata": {},
   "source": [
    "# Step 1: Extract Data\n",
    "### Import libraries, set paths & constants"
   ]
  },
  {
   "cell_type": "code",
   "execution_count": 141,
   "metadata": {
    "collapsed": true
   },
   "outputs": [],
   "source": [
    "%matplotlib inline"
   ]
  },
  {
   "cell_type": "code",
   "execution_count": 134,
   "metadata": {
    "collapsed": false
   },
   "outputs": [],
   "source": [
    "import csv\n",
    "import numpy as np\n",
    "import os\n",
    "import pandas as pd\n",
    "import sys\n",
    "import time\n",
    "import matplotlib.pyplot as plt\n",
    "\n",
    "from IPython.display import display\n",
    "from collections import defaultdict\n",
    "from pandas import DataFrame"
   ]
  },
  {
   "cell_type": "code",
   "execution_count": 3,
   "metadata": {
    "collapsed": true
   },
   "outputs": [],
   "source": [
    "# Set these as appropriate\n",
    "MIMIC_PATH = '/Users/Mark/Downloads/MIMIC Data/Original'\n",
    "VARIABLE_MAP_FILE = '/Users/Mark/Documents/GitHub/MIMIC-Machine-Learning/Reference Files/mimic3_map.csv'\n",
    "OUTPUT_PATH = '/Users/Mark/Downloads/MIMIC Data/Processed'\n",
    "\n",
    "NB_ROWS_CHARTEVENTS = 263201376\n",
    "NB_ROWS_LABEVENTS = 27872576\n",
    "NB_ROWS_OUTPUTEVENTS = 4349340\n",
    "\n",
    "try:\n",
    "    os.makedirs(OUTPUT_PATH)\n",
    "except:\n",
    "    pass"
   ]
  },
  {
   "cell_type": "markdown",
   "metadata": {},
   "source": [
    "### Filter data by various criteria"
   ]
  },
  {
   "cell_type": "code",
   "execution_count": 4,
   "metadata": {
    "collapsed": false
   },
   "outputs": [
    {
     "name": "stdout",
     "output_type": "stream",
     "text": [
      "START: 61532 57786 46476\n",
      "REMOVE ICU TRANSFERS: 55830 52834 43277\n"
     ]
    }
   ],
   "source": [
    "pats = pd.read_csv(os.path.join(MIMIC_PATH, 'PATIENTS_DATA_TABLE.csv'))\n",
    "pats = pats[['SUBJECT_ID', 'GENDER', 'DOB', 'DOD']]\n",
    "pats.DOB = pd.to_datetime(pats.DOB)\n",
    "pats.DOD = pd.to_datetime(pats.DOD)\n",
    "\n",
    "admits = pd.read_csv(os.path.join(MIMIC_PATH, 'ADMISSIONS_DATA_TABLE.csv'))\n",
    "admits = admits[['SUBJECT_ID', 'HADM_ID', 'DEATHTIME', 'ETHNICITY', 'DIAGNOSIS']]\n",
    "admits.DEATHTIME = pd.to_datetime(admits.DEATHTIME)\n",
    "\n",
    "stays  = pd.read_csv(os.path.join(MIMIC_PATH, 'ICUSTAYS_DATA_TABLE.csv'))\n",
    "print('START:', stays.ICUSTAY_ID.unique().shape[0], stays.HADM_ID.unique().shape[0], stays.SUBJECT_ID.unique().shape[0])\n",
    "stays = stays.ix[(stays.FIRST_WARDID == stays.LAST_WARDID) & (stays.FIRST_CAREUNIT == stays.LAST_CAREUNIT)]\n",
    "stays = stays[['SUBJECT_ID', 'HADM_ID', 'ICUSTAY_ID', 'DBSOURCE', 'INTIME', 'OUTTIME', 'LOS']]\n",
    "\n",
    "stays.INTIME = pd.to_datetime(stays.INTIME)\n",
    "stays.OUTTIME = pd.to_datetime(stays.OUTTIME)\n",
    "print('REMOVE ICU TRANSFERS:', stays.ICUSTAY_ID.unique().shape[0], stays.HADM_ID.unique().shape[0], stays.SUBJECT_ID.unique().shape[0])\n",
    "\n",
    "stays = stays.merge(admits, how='inner', left_on=['SUBJECT_ID', 'HADM_ID'], right_on=['SUBJECT_ID', 'HADM_ID'])\n",
    "stays = stays.merge(pats, how='inner', left_on=['SUBJECT_ID'], right_on=['SUBJECT_ID'])"
   ]
  },
  {
   "cell_type": "code",
   "execution_count": 5,
   "metadata": {
    "collapsed": false,
    "scrolled": true
   },
   "outputs": [
    {
     "name": "stdout",
     "output_type": "stream",
     "text": [
      "REMOVE PATIENTS AGE < 18: 47702 44815 35380\n"
     ]
    }
   ],
   "source": [
    "stays['AGE'] = (stays.INTIME - stays.DOB).apply(lambda s: s / np.timedelta64(1, 's')) / 60./60/24/365\n",
    "stays.loc[stays.AGE<0, 'AGE'] = 90\n",
    "stays = stays.ix[stays.AGE >= 18]\n",
    "print('REMOVE PATIENTS AGE < 18:', stays.ICUSTAY_ID.unique().shape[0], stays.HADM_ID.unique().shape[0], stays.SUBJECT_ID.unique().shape[0])"
   ]
  },
  {
   "cell_type": "code",
   "execution_count": 6,
   "metadata": {
    "collapsed": false
   },
   "outputs": [
    {
     "name": "stdout",
     "output_type": "stream",
     "text": [
      "REMOVE PATIENTS LOS < 6hrs: 47278 44540 35165\n"
     ]
    }
   ],
   "source": [
    "stays = stays.ix[stays.LOS >= .25]\n",
    "print('REMOVE PATIENTS LOS < 6hrs:', stays.ICUSTAY_ID.unique().shape[0], stays.HADM_ID.unique().shape[0], stays.SUBJECT_ID.unique().shape[0])"
   ]
  },
  {
   "cell_type": "markdown",
   "metadata": {},
   "source": [
    "### Structure data by patients"
   ]
  },
  {
   "cell_type": "markdown",
   "metadata": {},
   "source": [
    "#### Build mapping dataframe\n",
    "This imports the map file with the following criteria:  \n",
    "1) Drop labels not mapped to a variable  \n",
    "2) Unsure variables (denoted by the 'ZZZZ' prefix)  \n",
    "2) Variables with 0 counts in respective events tables"
   ]
  },
  {
   "cell_type": "code",
   "execution_count": 7,
   "metadata": {
    "collapsed": false
   },
   "outputs": [],
   "source": [
    "mp = DataFrame.from_csv(VARIABLE_MAP_FILE, index_col=None).fillna('').astype(str)\n",
    "mp.COUNT = pd.to_numeric(mp.COUNT)\n",
    "mp = mp.ix[(mp.VARIABLE != '') & (mp.COUNT>0)]\n",
    "mp = mp.ix[mp.VARIABLE.apply(lambda s: not s.startswith('ZZZZ'))]\n",
    "mp = mp.set_index('ITEMID')"
   ]
  },
  {
   "cell_type": "markdown",
   "metadata": {},
   "source": [
    "#### Random sampling of stays (uncomment for testing)"
   ]
  },
  {
   "cell_type": "code",
   "execution_count": null,
   "metadata": {
    "collapsed": true
   },
   "outputs": [],
   "source": [
    "stay_idx = np.random.randint(0, high=stays.shape[0], size=1000)\n",
    "stays = stays.iloc[stay_idx]"
   ]
  },
  {
   "cell_type": "markdown",
   "metadata": {},
   "source": [
    "#### Create folders for each episode, each with stays.csv and observations.csv"
   ]
  },
  {
   "cell_type": "code",
   "execution_count": null,
   "metadata": {
    "collapsed": false
   },
   "outputs": [],
   "source": [
    "OBS_HEADER = [ 'SUBJECT_ID', 'HADM_ID', 'ICUSTAY_ID', 'CHARTTIME', 'VALUE', 'VALUEUOM', 'MIMIC_LABEL' ]\n",
    "nb_subjects = stays.SUBJECT_ID.unique().shape[0]\n",
    "t0 = time.time()\n",
    "for i, subject_id in enumerate(stays.SUBJECT_ID.unique()):\n",
    "    sys.stdout.write('\\rSUBJECT {0} of {1}...'.format(i, nb_subjects))\n",
    "    dn = os.path.join(OUTPUT_PATH, 'Episodes', str(subject_id))\n",
    "    try:\n",
    "        os.makedirs(dn)\n",
    "    except:\n",
    "        pass\n",
    "    \n",
    "    stays.ix[stays.SUBJECT_ID == subject_id].sort_values(by='INTIME').to_csv(os.path.join(dn, 'stays.csv'), index=False)\n",
    "    f = open(os.path.join(dn, 'observations.csv'), 'w')\n",
    "    f.write(','.join(OBS_HEADER) + '\\n')\n",
    "    f.close()\n",
    "        \n",
    "tf = time.time()\n",
    "print ('DONE in %.1f seconds' % (tf-t0))"
   ]
  },
  {
   "cell_type": "markdown",
   "metadata": {},
   "source": [
    "#### Build observations files"
   ]
  },
  {
   "cell_type": "code",
   "execution_count": null,
   "metadata": {
    "collapsed": false
   },
   "outputs": [],
   "source": [
    "subject_ids = set([ str(s) for s in stays.SUBJECT_ID.unique() ])\n",
    "\n",
    "tables = [ 'chartevents'] #, 'labevents' ] #, 'outputevents' ]\n",
    "nb_rows = [ NB_ROWS_CHARTEVENTS] #, NB_ROWS_LABEVENTS ] #, NB_ROWS_OUTPUTEVENTS ]\n",
    "t0 = time.time()\n",
    "\n",
    "for table, nbr in zip(tables, nb_rows):\n",
    "    r = csv.DictReader(open(os.path.join(MIMIC_PATH, table.upper() + '_DATA_TABLE.csv'), 'r'))\n",
    "    curr_subject_id = ''\n",
    "    last_write_no = 0\n",
    "    last_write_nb_rows = 0\n",
    "    last_write_subject_id = ''\n",
    "    curr_obs = []\n",
    "    for i, row_in in enumerate(r):\n",
    "        if i > 1000000:\n",
    "            break\n",
    "        if last_write_no != '':\n",
    "            sys.stdout.write('\\rprocessing {0}: ROW {1} of {2}...last write '\n",
    "                             '({3}) {4} rows for subject {5}'.format(table, i, nbr, last_write_no,\n",
    "                                                                     last_write_nb_rows, last_write_subject_id))\n",
    "        else:\n",
    "            sys.stdout.write('\\rprocessing {0}: ROW {1} of {2}...'.format(table, i, nbr))\n",
    "        \n",
    "        subject_id = row_in['SUBJECT_ID']\n",
    "        itemid = row_in['ITEMID']\n",
    "        \n",
    "        if subject_id not in subject_ids or itemid not in mp.index:\n",
    "            continue\n",
    "            \n",
    "        row_out = { 'SUBJECT_ID': subject_id,\n",
    "                    'HADM_ID': row_in['HADM_ID'],\n",
    "                    'CHARTTIME': row_in['CHARTTIME'],\n",
    "                    'VARIABLE': mp.VARIABLE[row_in['ITEMID']],\n",
    "                    'MIMIC_LABEL': mp.LABEL[row_in['ITEMID']],\n",
    "                    'VALUE': row_in['VALUE'],\n",
    "                    'VALUEUOM': row_in['VALUEUOM'] }\n",
    "        \n",
    "        try:\n",
    "            row_out['ICUSTAY_ID'] = row_in['ICUSTAY_ID']\n",
    "        except:\n",
    "            row_out['ICUSTAY_ID'] = ''\n",
    "\n",
    "        if curr_subject_id != '' and curr_subject_id != subject_id:\n",
    "            last_write_no += 1\n",
    "            last_write_nb_rows = len(curr_obs)\n",
    "            last_write_subject_id = curr_subject_id\n",
    "            fn = os.path.join(OUTPUT_PATH, 'Episodes', str(curr_subject_id), 'observations.csv')\n",
    "            w = csv.DictWriter(open(fn, 'a', newline=''), fieldnames=OBS_HEADER, quoting=csv.QUOTE_MINIMAL)\n",
    "            w.writerows(curr_obs)\n",
    "            curr_obs = []\n",
    "\n",
    "        curr_obs.append(row_out)\n",
    "        curr_subject_id = subject_id\n",
    "\n",
    "    if curr_subject_id != '':\n",
    "        last_write_no += 1\n",
    "        last_write_nb_rows = len(curr_obs)\n",
    "        last_write_subject_id = curr_subject_id\n",
    "        fn = os.path.join(OUTPUT_PATH, 'Episodes', str(curr_subject_id), 'observations.csv')\n",
    "        w = csv.DictWriter(open(fn, 'a', newline=''), fieldnames=OBS_HEADER, quoting=csv.QUOTE_MINIMAL)\n",
    "        w.writerows(curr_obs)\n",
    "        curr_obs = []\n",
    "    \n",
    "    del r\n",
    "    sys.stdout.write('\\rprocessing {0}: ROW {1} of {2}...last write '\n",
    "                     '({3}) {4} rows for subject {5}'.format(table, i, nbr, last_write_no,\n",
    "                                                             last_write_nb_rows, last_write_subject_id))\n",
    "    tf = time.time()\n",
    "    print('DONE after %d seconds' % tf-t0)"
   ]
  },
  {
   "cell_type": "markdown",
   "metadata": {
    "collapsed": true
   },
   "source": [
    "### Structure data by ITEMIDs"
   ]
  },
  {
   "cell_type": "markdown",
   "metadata": {},
   "source": [
    "#### Build observation files for each itemid and labitemid"
   ]
  },
  {
   "cell_type": "code",
   "execution_count": 14,
   "metadata": {
    "collapsed": false
   },
   "outputs": [
    {
     "name": "stdout",
     "output_type": "stream",
     "text": [
      "Directory already exists. Delete directory first and run again\n"
     ]
    }
   ],
   "source": [
    "mp = DataFrame.from_csv(VARIABLE_MAP_FILE, index_col='ITEMID').fillna('').astype(str)\n",
    "OBS_HEADER = [ 'SUBJECT_ID', 'HADM_ID', 'ICUSTAY_ID', 'CHARTTIME', 'VALUE', 'VALUEUOM', 'MIMIC_LABEL' ]\n",
    "\n",
    "tables = [ 'chartevents']#, 'labevents' ] #, 'outputevents' ]\n",
    "item_dicts = ['items']#, 'labitems'] #, 'items']\n",
    "nb_rows = [ NB_ROWS_CHARTEVENTS]#, NB_ROWS_LABEVENTS ] #, NB_ROWS_OUTPUTEVENTS ]\n",
    "t0 = time.time()\n",
    "\n",
    "for table, nbr, item_dict in zip(tables, nb_rows, item_dicts):\n",
    "    try:\n",
    "        os.makedirs(os.path.join(OUTPUT_PATH, item_dict.upper()))\n",
    "    except:\n",
    "        print('Directory already exists. Delete directory first and run again')\n",
    "        break\n",
    "    r = csv.DictReader(open(os.path.join(MIMIC_PATH, table.upper() + '_DATA_TABLE.csv'), 'r'))\n",
    "    d = DataFrame.from_csv(os.path.join(MIMIC_PATH, 'D_' + item_dict.upper() + '_DATA_TABLE.csv'), index_col='ITEMID')\n",
    "    w_dict = {}\n",
    "    for i, row_in in enumerate(r):\n",
    "        item_id = row_in['ITEMID']\n",
    "        sys.stdout.write('\\rprocessing {0}: ROW {1} of {2}...'.format(table, i+1, nbr))\n",
    "        \n",
    "        row_out = { 'SUBJECT_ID': row_in['SUBJECT_ID'],\n",
    "                    'HADM_ID': row_in['HADM_ID'],\n",
    "                    'CHARTTIME': row_in['CHARTTIME'],\n",
    "                    'MIMIC_LABEL': mp.LABEL[int(item_id)],\n",
    "                    'VALUE': row_in['VALUE'],\n",
    "                    'VALUEUOM': row_in['VALUEUOM'] }\n",
    "        try:\n",
    "            row_out['ICUSTAY_ID'] = row_in['ICUSTAY_ID']\n",
    "        except:\n",
    "            row_out['ICUSTAY_ID'] = ''\n",
    "            \n",
    "    if item_id not in w_dict:\n",
    "        fn = os.path.join(OUTPUT_PATH, item_dict.upper(), str(item_id) + '.csv')\n",
    "        w_dict[item_id] = csv.DictWriter(open(fn, 'a+', newline=''), fieldnames=OBS_HEADER, quoting=csv.QUOTE_MINIMAL)\n",
    "        w_dict[item_id].writeheader()\n",
    "\n",
    "    w_dict[item_id].writerow(row_out)\n",
    "        \n",
    "\n",
    "    del r\n",
    "    del w_dict\n",
    "    sys.stdout.write('\\rprocessing {0}: ROW {1} of {2}...last write '.format(table, i, nbr))\n",
    "    tf = time.time()\n",
    "    print('\\nDONE after %.2f seconds' % (tf-t0))\n"
   ]
  },
  {
   "cell_type": "markdown",
   "metadata": {},
   "source": [
    "### Exploratory analysis - visualization of items\n",
    "\n",
    "Compare itemids in stacked histograms. "
   ]
  },
  {
   "cell_type": "code",
   "execution_count": 177,
   "metadata": {
    "collapsed": false
   },
   "outputs": [
    {
     "name": "stdout",
     "output_type": "stream",
     "text": [
      "Scanning ITEMID 225310 (5 of 6)\n",
      "ITEMID 225310 does not have numeric values\n",
      "\n",
      "5 valid datasets... making plots\n"
     ]
    },
    {
     "data": {
      "image/png": "[encoded data removed]",
      "text/plain": [
       "<matplotlib.figure.Figure at 0x15a64e3fac8>"
      ]
     },
     "metadata": {},
     "output_type": "display_data"
    }
   ],
   "source": [
    "# Build list of itemids of interest here-\n",
    "ids_caprate = [3348,115,8377,224308,223951]\n",
    "ids_bp_diastolic = [8368, 8441, 220180, 220051, 8502, 225310]\n",
    "ids_co2 = [50804,50818,778,777,220235,225698,3810,858]\n",
    "ids = ids_co2\n",
    "\n",
    "itemids = []\n",
    "df_list = []\n",
    "mp = DataFrame.from_csv(VARIABLE_MAP_FILE, index_col='ITEMID')\n",
    "\n",
    "# Scan for validity (existence + numerical)\n",
    "for i, itemid in enumerate(ids):\n",
    "    sys.stdout.write('\\rScanning ITEMID {0} ({1} of {2})'.format(itemid, i, len(ids)))\n",
    "    sys.stdout.flush()\n",
    "    try:\n",
    "        df = DataFrame.from_csv(os.path.join(OUTPUT_PATH, 'ITEMS', str(itemid) +'.csv'), index_col=None)\n",
    "        if df['VALUE'].dtype == np.float64:\n",
    "            df_list.append(df)\n",
    "            itemids.append(itemid)\n",
    "        else:\n",
    "            print('\\nITEMID %d does not have numeric values' % itemid)\n",
    "    except:\n",
    "        print('\\nFile for ITEMID %d does not exist' % itemid)\n",
    "\n",
    "# Analysis\n",
    "num_plots = len(df_list)\n",
    "print('\\n%d valid datasets... making plots' % num_plots)\n",
    "i = 0\n",
    "if num_plots > 0:\n",
    "    fig, axs = plt.subplots(num_plots, 1)\n",
    "    fig.set_size_inches(10,3*num_plots)\n",
    "    for df, itemid in zip(df_list, itemids):\n",
    "        curr_ax = axs[i]\n",
    "        sys.stdout.flush()\n",
    "        df = df.ix[df.VALUE <300]\n",
    "        df['VALUE'].hist(ax=axs[i], bins=100)\n",
    "        curr_ax.set_title(mp.LABEL[itemid] + ' ' + str(itemid))\n",
    "        curr_ax.set_xlim(0, 300)\n",
    "        i += 1\n",
    "else:\n",
    "    print('no data to plot')\n",
    "        "
   ]
  },
  {
   "cell_type": "code",
   "execution_count": null,
   "metadata": {
    "collapsed": true
   },
   "outputs": [],
   "source": []
  }
 ],
 "metadata": {
  "kernelspec": {
   "display_name": "Python 2",
   "language": "python",
   "name": "python2"
  },
  "language_info": {
   "codemirror_mode": {
    "name": "ipython",
    "version": 2
   },
   "file_extension": ".py",
   "mimetype": "text/x-python",
   "name": "python",
   "nbconvert_exporter": "python",
   "pygments_lexer": "ipython2",
   "version": "2.7.11"
  }
 },
 "nbformat": 4,
 "nbformat_minor": 0
}
