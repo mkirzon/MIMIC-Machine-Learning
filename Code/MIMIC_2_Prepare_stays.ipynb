{
 "cells": [
  {
   "cell_type": "code",
   "execution_count": 2,
   "metadata": {
    "collapsed": false
   },
   "outputs": [
    {
     "name": "stdout",
     "output_type": "stream",
     "text": [
      "Populating the interactive namespace from numpy and matplotlib\n"
     ]
    }
   ],
   "source": [
    "%pylab inline"
   ]
  },
  {
   "cell_type": "markdown",
   "metadata": {},
   "source": [
    "# Step 2: Prepare Stay Objects\n",
    "### Import libraries, set paths & constants"
   ]
  },
  {
   "cell_type": "code",
   "execution_count": 3,
   "metadata": {
    "collapsed": false
   },
   "outputs": [],
   "source": [
    "import glob\n",
    "import numpy as np\n",
    "import os\n",
    "import pandas as pd\n",
    "import re\n",
    "import sys\n",
    "import time\n",
    "\n",
    "from pandas import DataFrame, Series\n",
    "from pandas.tslib import Timestamp\n",
    "from IPython.display import display\n"
   ]
  },
  {
   "cell_type": "code",
   "execution_count": 4,
   "metadata": {
    "collapsed": true
   },
   "outputs": [],
   "source": [
    "# Set these as appropriate\n",
    "MIMIC_PATH = '/Users/Mark/Downloads/MIMIC Data/Original'\n",
    "VAR_BOUNDS_FILE = '/Users/Mark/Documents/GitHub/MIMIC-Machine-Learning/Reference Files/mimic3_variables.csv'\n",
    "OUTPUT_PATH = '/Users/Mark/Downloads/MIMIC Data/Processed/Episodes'\n",
    "\n",
    "NB_ROWS_CHARTEVENTS = 263201376\n",
    "NB_ROWS_LABEVENTS = 27872576\n",
    "NB_ROWS_OUTPUTEVENTS = 4349340\n",
    "\n",
    "try:\n",
    "    os.makedirs(OUTPUT_PATH)\n",
    "except:\n",
    "    pass"
   ]
  },
  {
   "cell_type": "code",
   "execution_count": 5,
   "metadata": {
    "collapsed": false
   },
   "outputs": [
    {
     "name": "stdout",
     "output_type": "stream",
     "text": [
      "['time', 'diastolic blood pressure', 'systolic blood pressure', 'capillary refill rate binary', 'fraction inspired o2', 'glasgow coma scale total', 'glucose', 'heart rate', 'ph', 'respiratory rate', 'oxygen saturation', 'temperature', 'bilirubin', 'pco2', 'weight']\n"
     ]
    }
   ],
   "source": [
    "variables = ['diastolic blood pressure',\n",
    "           'systolic blood pressure',\n",
    "           'capillary refill rate binary',\n",
    "           'fraction inspired o2',\n",
    "           'glasgow coma scale total',\n",
    "           'glucose',\n",
    "           'heart rate',\n",
    "           'ph',\n",
    "           'respiratory rate',\n",
    "           'oxygen saturation',\n",
    "           'temperature',\n",
    "           'bilirubin',\n",
    "           'pco2',\n",
    "           'weight',\n",
    "           'height',\n",
    "           'gender',\n",
    "           'race' ]\n",
    "\n",
    "channels = variables[:-3]\n",
    "channels.insert(0, 'time')\n",
    "print(channels)\n",
    "\n",
    "var_bounds = DataFrame.from_csv(VAR_BOUNDS_FILE, index_col='variable')"
   ]
  },
  {
   "cell_type": "markdown",
   "metadata": {},
   "source": [
    "### Define functions for value transformations, normalizations, etc"
   ]
  },
  {
   "cell_type": "code",
   "execution_count": 6,
   "metadata": {
    "collapsed": false
   },
   "outputs": [],
   "source": [
    "# ETCO2: haven't found yet\n",
    "# Urine output: ambiguous units (raw ccs, ccs/kg/hr, 24-hr, etc.)\n",
    "# Tidal volume: tried to substitute for ETCO2 but units are ambiguous\n",
    "\n",
    "# SBP: some are strings of type SBP/DBP\n",
    "def transform_sbp(df):\n",
    "    v = df.VALUE.astype(str)\n",
    "    idx = v.apply(lambda s: '/' in s)\n",
    "    v[idx] = v[idx].apply(lambda s: re.match('^(\\d+)/(\\d+)$', s).group(1))\n",
    "    return v.astype(float)\n",
    "\n",
    "def transform_dbp(df):\n",
    "    v = df.VALUE.astype(str)\n",
    "    idx = v.apply(lambda s: '/' in s)\n",
    "    v[idx] = v[idx].apply(lambda s: re.match('^(\\d+)/(\\d+)$', s).group(2))\n",
    "    return v.astype(float)\n",
    "\n",
    "# CRR: strings with brisk, <3 normal, delayed, or >3 abnormal\n",
    "def transform_crr(df):\n",
    "    v = Series(np.zeros(df.shape[0]), index=df.index)\n",
    "    v[:] = np.nan\n",
    "    v[(df.VALUE == 'Normal <3 secs') | (df.VALUE == 'Brisk')] = 0\n",
    "    v[(df.VALUE == 'Abnormal >3 secs') | (df.VALUE == 'Delayed')] = 1\n",
    "    return v\n",
    "\n",
    "# FIO2: many 0s, some 0<x<0.2 or 1<x<20\n",
    "def transform_fio2(df):\n",
    "    v = df.VALUE.astype(float)\n",
    "    idx = df.VALUEUOM.fillna('').apply(lambda s: 'torr' not in s.lower()) & (v>1.0)\n",
    "    v[idx] = v[idx] / 100.\n",
    "    return v\n",
    "\n",
    "# GLUCOSE, PH: sometimes have ERROR as value\n",
    "def transform_lab(df):\n",
    "    v = df.VALUE\n",
    "    idx = v.apply(lambda s: type(s) is str and not re.match('^(\\d+(\\.\\d*)?|\\.\\d+)$', s))\n",
    "    v[idx] = np.nan\n",
    "    return v.astype(float)\n",
    "\n",
    "# O2SAT: small number of 0<x<=1 that should be mapped to 0-100 scale\n",
    "def transform_o2sat(df):\n",
    "    v = pd.to_numeric(df.VALUE, errors='coerce').dropna()\n",
    "    idx = (v<=1)\n",
    "    v[idx] = v[idx] * 100.\n",
    "    return v\n",
    "\n",
    "# Temperature: map Farenheit to Celsius, some ambiguous 50<x<80\n",
    "def transform_temperature(df):\n",
    "    v = df.VALUE.astype(float)\n",
    "    idx = df.VALUEUOM.fillna('').apply(lambda s: 'F' in s.lower()) | df.MIMIC_LABEL.apply(lambda s: 'F' in s.lower()) | (v >= 79)\n",
    "    v[idx] = (v[idx] - 32) * 5. / 9\n",
    "    return v\n",
    "\n",
    "# Weight: some really light/heavy adults: <50 lb, >450 lb, ambiguous oz/lb\n",
    "# Children are tough for height, weight\n",
    "def transform_weight(df):\n",
    "    v = df.VALUE.astype(float)\n",
    "    # ounces\n",
    "    idx = df.VALUEUOM.fillna('').apply(lambda s: 'oz' in s.lower()) | df.MIMIC_LABEL.apply(lambda s: 'oz' in s.lower())\n",
    "    v[idx] = v[idx] / 16.\n",
    "    # pounds\n",
    "    idx = idx | df.VALUEUOM.fillna('').apply(lambda s: 'lb' in s.lower()) | df.MIMIC_LABEL.apply(lambda s: 'lb' in s.lower())\n",
    "    v[idx] = v[idx] * 0.453592\n",
    "    return v\n",
    "\n",
    "# Height: some really short/tall adults: <2 ft, >7 ft)\n",
    "# Children are tough for height, weight\n",
    "def transform_height(df):\n",
    "    v = df.VALUE.astype(float)\n",
    "    idx = df.VALUEUOM.fillna('').apply(lambda s: 'in' in s.lower()) | df.MIMIC_LABEL.apply(lambda s: 'in' in s.lower())\n",
    "    v[idx] = (v[idx] * 2.54).round()\n",
    "    return v\n",
    "\n",
    "var_transforms = {\n",
    "    'systolic blood pressure': transform_sbp,\n",
    "    'diastolic blood pressure': transform_dbp,\n",
    "    'capillary refill rate binary': transform_crr,\n",
    "    'fraction inspired o2': transform_fio2,\n",
    "    'glucose': transform_lab,\n",
    "    'ph': transform_lab,\n",
    "    'oxygen saturation': transform_o2sat,\n",
    "    'temperature': transform_temperature,\n",
    "    'weight': transform_weight,\n",
    "    'height': transform_height\n",
    "}"
   ]
  },
  {
   "cell_type": "markdown",
   "metadata": {},
   "source": [
    "### "
   ]
  },
  {
   "cell_type": "code",
   "execution_count": 7,
   "metadata": {
    "collapsed": false
   },
   "outputs": [
    {
     "name": "stderr",
     "output_type": "stream",
     "text": [
      "C:\\Users\\Mark\\Miniconda3\\lib\\site-packages\\ipykernel\\__main__.py:36: SettingWithCopyWarning: \n",
      "A value is trying to be set on a copy of a slice from a DataFrame\n",
      "\n",
      "See the caveats in the documentation: http://pandas.pydata.org/pandas-docs/stable/indexing.html#indexing-view-versus-copy\n",
      "C:\\Users\\Mark\\Miniconda3\\lib\\site-packages\\ipykernel\\__main__.py:42: SettingWithCopyWarning: \n",
      "A value is trying to be set on a copy of a slice from a DataFrame\n",
      "\n",
      "See the caveats in the documentation: http://pandas.pydata.org/pandas-docs/stable/indexing.html#indexing-view-versus-copy\n",
      "C:\\Users\\Mark\\Miniconda3\\lib\\site-packages\\ipykernel\\__main__.py:37: SettingWithCopyWarning: \n",
      "A value is trying to be set on a copy of a slice from a DataFrame\n",
      "\n",
      "See the caveats in the documentation: http://pandas.pydata.org/pandas-docs/stable/indexing.html#indexing-view-versus-copy\n"
     ]
    },
    {
     "name": "stdout",
     "output_type": "stream",
     "text": [
      "SUBJECT 497 of 35165 (10693), STAY_ID 238651: 249 observations"
     ]
    },
    {
     "name": "stderr",
     "output_type": "stream",
     "text": [
      "C:\\Users\\Mark\\Miniconda3\\lib\\site-packages\\pandas\\core\\generic.py:4428: SettingWithCopyWarning: \n",
      "A value is trying to be set on a copy of a slice from a DataFrame\n",
      "\n",
      "See the caveats in the documentation: http://pandas.pydata.org/pandas-docs/stable/indexing.html#indexing-view-versus-copy\n",
      "  self._update_inplace(new_data)\n",
      "C:\\Users\\Mark\\Miniconda3\\lib\\site-packages\\IPython\\core\\interactiveshell.py:3006: DtypeWarning: Columns (5) have mixed types. Specify dtype option on import or set low_memory=False.\n",
      "  if self.run_code(code, result):\n"
     ]
    },
    {
     "name": "stdout",
     "output_type": "stream",
     "text": [
      "SUBJECT 35165 of 35165 (99999), STAY_ID 246512: 156 observations\n"
     ]
    }
   ],
   "source": [
    "S = []\n",
    "T = []\n",
    "\n",
    "patient_id = []\n",
    "admit_id = []\n",
    "episode_id = []\n",
    "encounter_no = []\n",
    "age = []\n",
    "race = []\n",
    "sex = []\n",
    "admit_diagnosis = []\n",
    "weight = []\n",
    "height = []\n",
    "\n",
    "ylos = []\n",
    "\n",
    "dirs = glob.glob(os.path.join(OUTPUT_PATH, '*'))\n",
    "nb_dirs = len(dirs)\n",
    "for d_no, d in enumerate(dirs):\n",
    "    if not os.path.isdir(d):\n",
    "        continue\n",
    "    # Every stays is patients records with multiple stays. Some may only have one row, stay, while others have many.\n",
    "    stays = DataFrame.from_csv(os.path.join(d, 'stays.csv'), index_col='ICUSTAY_ID', parse_dates=False).drop_duplicates()\n",
    "    stays.INTIME = pd.to_datetime(stays.INTIME)\n",
    "    stays.OUTTIME = pd.to_datetime(stays.OUTTIME)\n",
    "    stays.DEATHTIME = stays.DEATHTIME.apply(lambda s: pd.to_datetime(s) if type(s) is str or not np.isnan(s) else np.nan)\n",
    "    stays.sort_values(by='INTIME', inplace=True)\n",
    "    obs = DataFrame.from_csv(os.path.join(d, 'observations.csv'), index_col=None, parse_dates=False)\n",
    "    obs.CHARTTIME = pd.to_datetime(obs.CHARTTIME)\n",
    "    obs = obs.ix[obs.VALUE.notnull()]\n",
    "    \n",
    "    # Transform values, remove outliers\n",
    "    for vname in var_transforms.keys():\n",
    "        if (obs.VARIABLE==vname).any():\n",
    "            pass\n",
    "            obs.VALUE[obs.VARIABLE==vname] = var_transforms[vname](obs.ix[obs.VARIABLE==vname])\n",
    "            v = obs.VALUE[obs.VARIABLE==vname]\n",
    "            v[v < var_bounds.dropBelow[vname]] = np.nan\n",
    "            v[v < var_bounds.minValue[vname]]  = var_bounds.minValue[vname]\n",
    "            v[v > var_bounds.dropAbove[vname]] = np.nan\n",
    "            v[v > var_bounds.maxValue[vname]]  = var_bounds.maxValue[vname]\n",
    "            obs.VALUE[obs.VARIABLE==vname] = v\n",
    "    obs.VALUE = obs.VALUE.astype(float)\n",
    "    obs = obs.ix[obs.VALUE.notnull()]\n",
    "    \n",
    "    # Check if \"after changes\" the observation is still valid.\n",
    "    if obs.shape[0] == 0:\n",
    "        sys.stdout.write('\\rSUBJECT {0} of {1} ({2}) has no data!'.format(d_no+1, nb_dirs, re.search('(\\d+)', d).group(1)))\n",
    "        continue\n",
    "    \n",
    "    #  For timestamped events, I say that it belongs to an ICU stay if *EITHER* it has that ICUSTAY_ID *OR* it falls between that ICU stay's INTIME and OUTTIME.\n",
    "    for stay_no, stay_id in enumerate(stays.index):\n",
    "        \n",
    "        # Find out rows, events, that fix the condtion. idx = valid rows, events, in obsevation file within single ICUSTAY.\n",
    "        idx = ((obs.CHARTTIME >= stays.INTIME[stay_id]) & (obs.CHARTTIME <= stays.OUTTIME[stay_id])) | (obs.ICUSTAY_ID == stay_id)\n",
    "        \n",
    "        # Find out if there are any stays that are totally empty\n",
    "        if not idx.any():\n",
    "            sys.stdout.write('\\rSUBJECT {0} of {1} ({2}), STAY_ID {3}: EMPTY!'.format(d_no+1, nb_dirs, stays.SUBJECT_ID[stay_id], stay_id))\n",
    "            continue\n",
    "        \n",
    "        # X is a data frame with all the variables, lab and event, recorded within single ICU stay\n",
    "        X = obs[['CHARTTIME', 'VARIABLE', 'VALUE']].ix[idx].sort_values(by='CHARTTIME').drop_duplicates(['CHARTTIME', 'VARIABLE'])\n",
    "        nb_obs = X.shape[0]\n",
    "        \n",
    "        # X is now a new matrix with fix row length, numbers of total variables or events. And index as timestamps\n",
    "        #            'diastolic blood pressure' 'systolic blood pressure' 'capillary refill rate' 'fraction inspired o2'......,\n",
    "        # 2100-12-23          100                           98                   23                          56 \n",
    "        # 1876-11-11          102                           94                   33                          46\n",
    "        #     ...             ...                           ...                 ...                          ..\n",
    "        X = X.pivot(index='CHARTTIME', columns='VARIABLE', values='VALUE').sort_index()\n",
    "        \n",
    "        ## Adding extra columns with column index as a variable that this patient originally deosn't have.\n",
    "        for c in variables:\n",
    "            if c not in X.columns:\n",
    "                X[c] = np.nan\n",
    "\n",
    "        try:\n",
    "            hours = (X.index.max() - X.index.min()).total_seconds()/60./60\n",
    "        except:\n",
    "            continue\n",
    "        else:\n",
    "            if hours < 12:\n",
    "                sys.stdout.write('\\rSUBJECT {0} of {1} ({2}), STAY_ID {3}: <12 hours data'.format(d_no+1, nb_dirs, stays.SUBJECT_ID[stay_id], stay_id))\n",
    "                continue\n",
    "        \n",
    "        # Create lists with specific information\n",
    "        patient_id.append(stays.SUBJECT_ID[stay_id])\n",
    "        admit_id.append(stays.HADM_ID[stay_id])\n",
    "        episode_id.append(stay_id)\n",
    "        encounter_no.append(stay_no)\n",
    "        age.append(stays.AGE[stay_id])\n",
    "        race.append(stays.ETHNICITY[stay_id])\n",
    "        sex.append(stays.GENDER[stay_id])\n",
    "        admit_diagnosis.append(stays.DIAGNOSIS[stay_id])\n",
    "        weight.append(X.weight[X.weight.notnull()].iloc[0] if X.weight.notnull().any() else np.nan)\n",
    "        height.append(X.height[X.height.notnull()].iloc[0] if X.height.notnull().any() else np.nan)\n",
    "              \n",
    "        ylos.append(stays.LOS[stay_id])\n",
    "        \n",
    "        # Now, CHARTTIME, which used to be the index of X, becomes column[0]. Then change the name to \"time\"\n",
    "        X = X.reset_index().rename(columns={'CHARTTIME': 'time'})\n",
    "        \n",
    "        # Transform values in the column \"time\" from timestamps into length of time lapse, in minutes, relative to when the 1st event took place.\n",
    "        X.time = (X.time - X.time.min()) / np.timedelta64(1, 'm')\n",
    "        \n",
    "        # Select columns in X by 'channels' and transform it into 2D numpy.ndarray and append it to S. S becomes an 3D np.array\n",
    "        S.append(X[channels].values)\n",
    "        sys.stdout.write('\\rSUBJECT {0} of {1} ({2}), STAY_ID {3}: {4} observations'.format(d_no+1, nb_dirs, stays.SUBJECT_ID[stay_id], stay_id, nb_obs))\n",
    "print('')"
   ]
  },
  {
   "cell_type": "code",
   "execution_count": 8,
   "metadata": {
    "collapsed": false
   },
   "outputs": [],
   "source": [
    "# Make every following lists contains only unique values\n",
    "admit_diagnoses = np.unique(admit_diagnosis)\n",
    "sex_categories = np.array(['M', 'F'])\n",
    "race_categories = np.unique(race)\n",
    "# diag_codes = DataFrame.from_csv(os.path.join(MIMIC_PATH, 'diagnostic_code_stats.csv'), index_col=None)\n",
    "# Yd_codes = diag_codes.ICD9_CODE.values.astype(str)\n",
    "\n",
    "# Transform all the list created above to numpy.ndarray\n",
    "patient_id = np.array(patient_id).astype(int)\n",
    "admit_id = np.array(admit_id).astype(int)\n",
    "episode_id = np.array(episode_id).astype(int)\n",
    "encounter_no = np.array(encounter_no).astype(int)\n",
    "age = np.array(age)\n",
    "\n",
    "########################## Don't understand the following lines\n",
    "race = (np.array(race)[:,None] == race_categories[None,:]).astype('int8')\n",
    "sex = (np.array(sex)[:,None] == sex_categories[None,:]).astype('int8')\n",
    "admit_diagnosis = (np.array(admit_diagnosis)[:,None] == admit_diagnoses[None,:]).astype('int8')\n",
    "\n",
    "########################## What don't cast the following lists into 'int' or 'float'?\n",
    "weight = np.array(weight)\n",
    "height = np.array(height)\n",
    "\n",
    "# Yd = np.vstack([ (np.array(yd).astype(str)[:,None] == Yd_codes).any(axis=0) for yd in Yd ]).astype('int8')\n",
    "# ymort = np.array(ymort).astype('int8')\n",
    "ylos = np.array(ylos)"
   ]
  },
  {
   "cell_type": "code",
   "execution_count": 9,
   "metadata": {
    "collapsed": false
   },
   "outputs": [
    {
     "name": "stdout",
     "output_type": "stream",
     "text": [
      "Took 19.69970965385437\n",
      "Took 75.71649217605591\n"
     ]
    }
   ],
   "source": [
    "# Save these into numpy.ndarray file format\n",
    "fns = [ os.path.join(OUTPUT_PATH, 'mimic3_12-NO_TIME_SERIES.npz'),\n",
    "        os.path.join(OUTPUT_PATH, 'mimic3_12.npz') ]\n",
    "sequences = [ [], S ]\n",
    "for fn, seq in zip(fns, sequences):\n",
    "    st = time.time()\n",
    "    \n",
    "    # Save two files. 1: Multiple arrays with the time series data, 3D array. 2: With 3D time series array\n",
    "    # Parameter: (fn = ouptput path, A=a, B=b, .....). A,B: Achrived name, a,b: array name \n",
    "    np.savez(fn,X=seq,\n",
    "                episode_id=episode_id,\n",
    "                admit_id=admit_id,\n",
    "                patient_id=patient_id,\n",
    "                encounter_no=encounter_no,\n",
    "                age=age,\n",
    "                race=race,\n",
    "                sex=sex,\n",
    "                admit_diagnosis=admit_diagnosis,\n",
    "                ylos=ylos,\n",
    "                race_categories=race_categories,\n",
    "                sex_categories=sex_categories,\n",
    "                admit_diagnoses=admit_diagnoses,\n",
    "                X_names=channels)\n",
    "    print('Took', time.time()-st)"
   ]
  },
  {
   "cell_type": "code",
   "execution_count": null,
   "metadata": {
    "collapsed": true
   },
   "outputs": [],
   "source": []
  }
 ],
 "metadata": {
  "kernelspec": {
   "display_name": "Python 3",
   "language": "python",
   "name": "python3"
  },
  "language_info": {
   "codemirror_mode": {
    "name": "ipython",
    "version": 3
   },
   "file_extension": ".py",
   "mimetype": "text/x-python",
   "name": "python",
   "nbconvert_exporter": "python",
   "pygments_lexer": "ipython3",
   "version": "3.5.1"
  }
 },
 "nbformat": 4,
 "nbformat_minor": 0
}
